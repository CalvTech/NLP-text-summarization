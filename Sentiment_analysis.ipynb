{
  "nbformat": 4,
  "nbformat_minor": 0,
  "metadata": {
    "colab": {
      "provenance": []
    },
    "kernelspec": {
      "name": "python3",
      "display_name": "Python 3"
    },
    "language_info": {
      "name": "python"
    }
  },
  "cells": [
    {
      "cell_type": "markdown",
      "source": [
        "# **Sentiment Analysis using Textblob**\n"
      ],
      "metadata": {
        "id": "p23gld_-arXl"
      }
    },
    {
      "cell_type": "markdown",
      "source": [
        "This code will give you two pieces of information:\n",
        "\n",
        "- Polarity: a float within the range [-1.0, 1.0], where -1.0 is very negative and 1.0 is very positive.\n",
        "- Subjectivity: a float within the range [0.0, 1.0] where 0.0 is very objective and 1.0 is very subjective.\n",
        "\n",
        "The model is designed for the English language."
      ],
      "metadata": {
        "id": "KNRfU353a2XT"
      }
    },
    {
      "cell_type": "markdown",
      "source": [
        "Install libraries"
      ],
      "metadata": {
        "id": "bfMGVEBeZ09M"
      }
    },
    {
      "cell_type": "code",
      "execution_count": 4,
      "metadata": {
        "colab": {
          "base_uri": "https://localhost:8080/"
        },
        "id": "gxv641RMZrmR",
        "outputId": "884bab8a-775c-4998-e0da-45ce4c472ce3"
      },
      "outputs": [
        {
          "output_type": "stream",
          "name": "stdout",
          "text": [
            "Requirement already satisfied: textblob in /usr/local/lib/python3.10/dist-packages (0.17.1)\n",
            "Requirement already satisfied: nltk in /usr/local/lib/python3.10/dist-packages (3.8.1)\n",
            "Requirement already satisfied: click in /usr/local/lib/python3.10/dist-packages (from nltk) (8.1.7)\n",
            "Requirement already satisfied: joblib in /usr/local/lib/python3.10/dist-packages (from nltk) (1.3.2)\n",
            "Requirement already satisfied: regex>=2021.8.3 in /usr/local/lib/python3.10/dist-packages (from nltk) (2023.6.3)\n",
            "Requirement already satisfied: tqdm in /usr/local/lib/python3.10/dist-packages (from nltk) (4.66.1)\n"
          ]
        }
      ],
      "source": [
        "pip install textblob nltk\n"
      ]
    },
    {
      "cell_type": "markdown",
      "source": [
        "Import libraries"
      ],
      "metadata": {
        "id": "cpz3-XnRZ8gk"
      }
    },
    {
      "cell_type": "code",
      "source": [
        "import nltk\n",
        "nltk.download('punkt')\n",
        "nltk.download('averaged_perceptron_tagger')\n",
        "nltk.download('brown')\n",
        "\n",
        "from textblob import TextBlob"
      ],
      "metadata": {
        "colab": {
          "base_uri": "https://localhost:8080/"
        },
        "id": "vcwubEu1Z-Oe",
        "outputId": "6a00b856-8bea-4534-c3dc-df5972f64b38"
      },
      "execution_count": 5,
      "outputs": [
        {
          "output_type": "stream",
          "name": "stderr",
          "text": [
            "[nltk_data] Downloading package punkt to /root/nltk_data...\n",
            "[nltk_data]   Unzipping tokenizers/punkt.zip.\n",
            "[nltk_data] Downloading package averaged_perceptron_tagger to\n",
            "[nltk_data]     /root/nltk_data...\n",
            "[nltk_data]   Unzipping taggers/averaged_perceptron_tagger.zip.\n",
            "[nltk_data] Downloading package brown to /root/nltk_data...\n",
            "[nltk_data]   Unzipping corpora/brown.zip.\n"
          ]
        }
      ]
    },
    {
      "cell_type": "code",
      "source": [
        "def analyze_sentiment(text):\n",
        "    blob = TextBlob(text)\n",
        "    sentiment = blob.sentiment\n",
        "    return sentiment\n",
        "\n",
        "# Example usage\n",
        "large_text = \"\"\"\n",
        "            Since 2017, Google Colab has been the easiest way to start programming in Python.\n",
        "            Over 7 million people, including students, already use Colab to access these\n",
        "            powerful computing resources, free of charge, without having to install or\n",
        "            manage any software. It’s a great tool for machine learning, data analysis,\n",
        "            and education — and now it’s getting even better with advances in AI.\n",
        "            Today, we’re announcing that Colab will soon add AI coding features like code\n",
        "            completions, natural language to code generation and even a code-assisting chatbot.\n",
        "            Colab will use Codey, a family of code models built on PaLM 2, which was\n",
        "            just announced at I/O last week. Codey was fine-tuned on a large dataset of\n",
        "            high quality, permissively licensed code from external sources to improve\n",
        "            performance on coding tasks. Plus, the versions of Codey being used to power\n",
        "            Colab have been customized especially for Python and for Colab-specific uses.\n",
        "            \"\"\"\n",
        "sentiment = analyze_sentiment(large_text)\n",
        "print(f\"Sentiment(polarity={sentiment.polarity}, subjectivity={sentiment.subjectivity})\")\n"
      ],
      "metadata": {
        "colab": {
          "base_uri": "https://localhost:8080/"
        },
        "id": "xVty3Ea6aB6k",
        "outputId": "10bc5864-994a-485c-c359-90cb32422a1b"
      },
      "execution_count": 6,
      "outputs": [
        {
          "output_type": "stream",
          "name": "stdout",
          "text": [
            "Sentiment(polarity=0.24742857142857147, subjectivity=0.5585238095238094)\n"
          ]
        }
      ]
    }
  ]
}